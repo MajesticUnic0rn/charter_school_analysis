{
 "cells": [
  {
   "cell_type": "code",
   "execution_count": 17,
   "metadata": {},
   "outputs": [],
   "source": [
    "import pandas as pd\n",
    "import numpy as np\n",
    "import matplotlib.pyplot as plt\n"
   ]
  },
  {
   "cell_type": "code",
   "execution_count": 6,
   "metadata": {},
   "outputs": [],
   "source": [
    "importedDomains=pd.read_csv(\"correctedDomains.csv\")"
   ]
  },
  {
   "cell_type": "code",
   "execution_count": 10,
   "metadata": {},
   "outputs": [
    {
     "data": {
      "text/plain": [
       "(191,)"
      ]
     },
     "execution_count": 10,
     "metadata": {},
     "output_type": "execute_result"
    }
   ],
   "source": [
    "importedDomains['domain'].unique().shape"
   ]
  },
  {
   "cell_type": "code",
   "execution_count": 13,
   "metadata": {},
   "outputs": [],
   "source": [
    "modelingRecord = pd.read_csv('modelingRecord.csv')"
   ]
  },
  {
   "cell_type": "code",
   "execution_count": 5,
   "metadata": {},
   "outputs": [
    {
     "data": {
      "text/plain": [
       "0                 aceacademycharter.org\n",
       "1                      alphaacademy.net\n",
       "2                             arsnc.org\n",
       "3                        acacharter.com\n",
       "4                            aahsnc.org\n",
       "                     ...               \n",
       "190                      wilsonprep.org\n",
       "191    nhaschools.comschoolswinterville\n",
       "192                    woodscharter.org\n",
       "193              youngsvilleacademy.org\n",
       "194             zecaschoolofthearts.com\n",
       "Name: corpusFileName, Length: 195, dtype: object"
      ]
     },
     "execution_count": 5,
     "metadata": {},
     "output_type": "execute_result"
    }
   ],
   "source": [
    "modelingRecord['corpusFileName']"
   ]
  },
  {
   "cell_type": "code",
   "execution_count": 6,
   "metadata": {},
   "outputs": [],
   "source": [
    "modelingRecordWithLinks = pd.read_csv('modelingRecordWithLinks.csv')"
   ]
  },
  {
   "cell_type": "code",
   "execution_count": 12,
   "metadata": {},
   "outputs": [
    {
     "data": {
      "text/plain": [
       "array(['aceacademycharter.org', 'alphaacademy.education', 'arsnc.org',\n",
       "       'acacharter.com', 'aahsnc.org', 'arapahoecharter.org',\n",
       "       'aristotle.teamcfa.school', 'artspacecharter.org',\n",
       "       'ascendleadershipacademy.org', 'bluegreenacademy.org',\n",
       "       'beargrasscharter.org', 'bcmschool.com', 'bethelhill.net',\n",
       "       'bradfordprep.org', 'brevard.teamcfa.school', 'bridgesacademy.us',\n",
       "       'cisrobeson.org/cis-academy', 'cabarruscharter.org', 'cfci.net',\n",
       "       'cardinalcharter.org', 'carolina.teamcfa.school', 'ciscomets.com',\n",
       "       'carterschool.org', 'cartergwoodsonschool.org', 'cemcs.org',\n",
       "       'cpscnc.org', 'centralwakehs.com', 'charlottelabschool.org',\n",
       "       'charlottesecondary.org', 'charterdayschool.net',\n",
       "       'chathamcharter.org', 'cgsnc.org', 'coastalprep.teamcfa.school',\n",
       "       'commonwealthhs.com', 'cpcsnc.org', 'csdspartans.org',\n",
       "       'concordlakeacademy.org', 'cornerstone.teamcfa.school',\n",
       "       'corvian.org', 'crosscreekcharterschool.com',\n",
       "       'davidsoncharter.org', 'dillardacademy.org',\n",
       "       'discoverycharterdurham.org', 'douglassacademy.net',\n",
       "       'eastvoyager.org', 'eastwakeacademy.org', 'eastsidestream.org',\n",
       "       'emereau.org', 'endeavorcharterschool.com', 'enoriveracademy.org',\n",
       "       'envisionscienceacademy.com', 'essiesschool.com',\n",
       "       'evergreenccs.org', 'excelsior.teamcfa.school',\n",
       "       'fallslakeacademy.com', 'fernleafccs.org',\n",
       "       'nhaschools.com/schools/Forsyth-Academy/en', 'fdnsc.net',\n",
       "       'franklinacademy.org',\n",
       "       'nhaschools.com/schools/Gate-City-Charter-Academy/en',\n",
       "       'glowacademy.net', 'globalscholarsacademy.org',\n",
       "       'childrenshopealliance.org/grandfather-academy',\n",
       "       'graystoneday.org', 'nhaschools.com/schools/Greensboro-Academy/en',\n",
       "       'guilfordprep.org', 'hstsedu.org', 'healthystartacademy.org',\n",
       "       'hendersoncollegiate.org', 'hobgoodcharterschool.org',\n",
       "       'icimagine.org', 'ignitepitt.org', 'ictransform.org',\n",
       "       'iredellcharter.org', 'islandmontessorischool.com',\n",
       "       'nhaschools.com/schools/johnston', 'kippcharlotte.org',\n",
       "       'kippenc.org', 'kestrelheights.org', 'llcharter.org',\n",
       "       'lncharter.org', 'lakesidecharteracademy.com',\n",
       "       'langtreecharter.org', 'lincolncharter.org', 'longleafschool.org',\n",
       "       'mcstemacademy.net', 'williamsacademy.org',\n",
       "       'nhaschools.com/schools/Matthews-Charter-Academy/en',\n",
       "       'joycharter.org', 'scholarsacademy.org', 'mcacademy.com',\n",
       "       'monroecharteracademy.org', 'mooremontessori.org',\n",
       "       'mountaindiscovery.org', 'micharter.org', 'midschool.org',\n",
       "       'movementschool.com', 'thencla.org', 'ncva.k12.com',\n",
       "       'neusecharterschool.org', 'ndschool.org',\n",
       "       'nextgenerationacademy.net', 'myncca.com', 'necprepschool.com',\n",
       "       'northeastacademy.org', 'oxfordprep.org', 'paveschools.org',\n",
       "       'paulrbrownleadership.com',\n",
       "       'nhaschools.com/schools/Peak-Charter-Academy/en', 'pahp.com',\n",
       "       'piedmontclassical.com', 'pccharter.teamcfa.school',\n",
       "       'pinelakeprep.org', 'pspa.teamcfa.school',\n",
       "       'pinnacleclassicalacademy.com', 'pioneersprings.org',\n",
       "       'pocosininnovative.com',\n",
       "       'nhaschools.com/schools/preeminent-charter-school/en/school-lunch',\n",
       "       'qeschools.org', 'queencitystem.org',\n",
       "       'nhaschools.com/schools/Queens-Grant-Community-School/en',\n",
       "       'questcharter.org', 'raleighcharterhs.org',\n",
       "       'raleighoakcharter.org', 'reachingallminds.com',\n",
       "       'nhaschools.com/schools/Research-Triangle-Charter-Academy/en',\n",
       "       'researchtrianglehighschool.org', 'ridgeviewcharter.org',\n",
       "       'rivermill-academy.org', 'rmprep.org',\n",
       "       'nhaschools.com/schools/rolesville', 'roxborocs.org',\n",
       "       'salliebhowardschool.com', 'starscharter.org',\n",
       "       'srca.teamcfa.school', 'socratesacademy.us', 'southbcs.org',\n",
       "       'swake.org', 'scstemacademy.net', 'steelecreekprep.org',\n",
       "       'sterlingmontessori.org', 'stewartcreekhs.com',\n",
       "       'thesugarcreek.org',\n",
       "       'nhaschools.com/schools/Summerfield-Charter-Academy/en',\n",
       "       'summitschool.org', 'bcca.teamcfa.school',\n",
       "       'academyofmoorecounty.org', 'artsbasedschool.com',\n",
       "       'capitolencoreacademy.org', 'cvatigers.com',\n",
       "       'thepointcollegeprep.org', 'theexpeditionschool.com',\n",
       "       'theexperientialschoolgso.wordpress.com', 'exploris.org',\n",
       "       'franklinschoolofinnovation.org', 'thehawbridgeschool.org',\n",
       "       'theidylschool.org', 'naturallygrownkids.org',\n",
       "       'magellancharter.org', 'themountaincommunityschool.com',\n",
       "       'thomasacademync.org', 'tjca.teamcfa.school',\n",
       "       'threeriversacademy.net', 'tillerschool.org',\n",
       "       'tillerycharteracademy.org', 'tlaedu.org', 'tmsacharter.org',\n",
       "       'tmsacademy.org', 'trcsboone.org', 'unionacademy.org',\n",
       "       'uniondayschool.com', 'indiantrailprep.org', 'ucsnc.org',\n",
       "       'unityclassical.teamcfa.school', 'uproarleadership.org',\n",
       "       'uwharriecharter.org', 'veritas.teamcfa.school',\n",
       "       'vancecharter.org', 'voyageracademy.net',\n",
       "       'nhaschools.com/schools/Wake-Forest-Charter-Academy/en',\n",
       "       'wmpcs.org', 'watersedgevillageschool.com', 'wpanc.net',\n",
       "       'wlakeprep.org', 'charter.willowoakmontessori.org',\n",
       "       'wilmingtonprep.com', 'wilsonprep.org',\n",
       "       'nhaschools.com/schools/Winterville-Charter-Academy/en',\n",
       "       'woodscharter.org', 'youngsvilleacademy.org',\n",
       "       'zecaschoolofthearts.com'], dtype=object)"
      ]
     },
     "execution_count": 12,
     "metadata": {},
     "output_type": "execute_result"
    }
   ],
   "source": [
    "modelingRecordWithLinks['corpusFileName'].unique()"
   ]
  },
  {
   "cell_type": "code",
   "execution_count": 25,
   "metadata": {},
   "outputs": [
    {
     "data": {
      "text/plain": [
       "<bound method IndexOpsMixin.value_counts of 0       2\n",
       "1       2\n",
       "2       2\n",
       "3       2\n",
       "4       2\n",
       "       ..\n",
       "9285    3\n",
       "9286    3\n",
       "9287    3\n",
       "9288    3\n",
       "9289    3\n",
       "Name: Poverty Level, Length: 9290, dtype: object>"
      ]
     },
     "execution_count": 25,
     "metadata": {},
     "output_type": "execute_result"
    }
   ],
   "source": [
    "modelingRecordWithLinks['Poverty Level'].value_counts"
   ]
  },
  {
   "cell_type": "code",
   "execution_count": 28,
   "metadata": {},
   "outputs": [],
   "source": [
    "modelingRecord.dropna(inplace=True)"
   ]
  },
  {
   "cell_type": "code",
   "execution_count": 32,
   "metadata": {},
   "outputs": [
    {
     "data": {
      "text/plain": [
       "0      2\n",
       "1      2\n",
       "2      1\n",
       "3      1\n",
       "5      2\n",
       "      ..\n",
       "190    1\n",
       "191    2\n",
       "192    1\n",
       "193    1\n",
       "194    3\n",
       "Name: Poverty Level, Length: 172, dtype: object"
      ]
     },
     "execution_count": 32,
     "metadata": {},
     "output_type": "execute_result"
    }
   ],
   "source": [
    "modelingRecord['Poverty Level']"
   ]
  },
  {
   "cell_type": "code",
   "execution_count": 43,
   "metadata": {},
   "outputs": [
    {
     "data": {
      "text/plain": [
       "<matplotlib.axes._subplots.AxesSubplot at 0x27c5717fd30>"
      ]
     },
     "execution_count": 43,
     "metadata": {},
     "output_type": "execute_result"
    },
    {
     "data": {
      "image/png": "[encoded data removed]",
      "text/plain": [
       "<Figure size 432x288 with 1 Axes>"
      ]
     },
     "metadata": {
      "needs_background": "light"
     },
     "output_type": "display_data"
    }
   ],
   "source": [
    "pd.to_numeric(modelingRecord['Poverty Level'], errors='coerce', downcast='float').hist(bins = 20)"
   ]
  },
  {
   "cell_type": "code",
   "execution_count": 44,
   "metadata": {},
   "outputs": [],
   "source": [
    "povertySchool1FileName=list(modelingRecord[modelingRecord['Poverty Level'] == '1']['corpusFileName'])\n",
    "povertySchool2FileName=list(modelingRecord[modelingRecord['Poverty Level'] == '2']['corpusFileName'])\n",
    "povertySchool3FileName=list(modelingRecord[modelingRecord['Poverty Level'] == '3']['corpusFileName'])"
   ]
  },
  {
   "cell_type": "code",
   "execution_count": 53,
   "metadata": {},
   "outputs": [
    {
     "data": {
      "text/plain": [
       "facebook  twitter  instagram  youtube  linkedin\n",
       "0.0       0.0      0.0        0.0      0.0         acacharter.combeargrasscharter.orgbcmschool.co...\n",
       "                              1.0      0.0                            llcharter.orgtheidylschool.org\n",
       "          1.0      0.0        1.0      0.0                                               thencla.org\n",
       "                   1.0        0.0      0.0                                    thehawbridgeschool.org\n",
       "1.0       0.0      0.0        0.0      0.0         bethelhill.netcisrobeson.orgcis-academycardina...\n",
       "                              1.0      0.0         centralwakehs.comcommonwealthhs.comneusecharte...\n",
       "                   1.0        0.0      0.0                                          bradfordprep.org\n",
       "                                       1.0                                           paveschools.org\n",
       "                              1.0      0.0                       ndschool.orgtheexpeditionschool.com\n",
       "          1.0      0.0        0.0      0.0         cabarruscharter.orgcarolina.teamcfa.schoolcgsn...\n",
       "                                       1.0         arapahoecharter.orgcornerstone.teamcfa.orgkipp...\n",
       "                              1.0      0.0         arsnc.orgartspacecharter.orgcharterdayschool.n...\n",
       "                                       1.0                                cemcs.orgthesugarcreek.org\n",
       "                   1.0        0.0      0.0         alphaacademy.netaristotle.teamcfa.orgbrevard.t...\n",
       "                                       1.0         aceacademycharter.orgexcelsior.teamcfa.schoolp...\n",
       "                              1.0      0.0         ascendleadershipacademy.orgcharlottelabschool....\n",
       "                                       1.0         endeavorcharterschool.comenvisionscienceacadem...\n",
       "Name: corpusFileName, dtype: object"
      ]
     },
     "execution_count": 53,
     "metadata": {},
     "output_type": "execute_result"
    }
   ],
   "source": [
    "modelingRecord.groupby(['facebook','twitter','instagram','youtube','linkedin'])['corpusFileName'].sum()"
   ]
  },
  {
   "cell_type": "code",
   "execution_count": null,
   "metadata": {},
   "outputs": [],
   "source": []
  }
 ],
 "metadata": {
  "kernelspec": {
   "display_name": "Python 3.8.2 64-bit",
   "language": "python",
   "name": "python38264bitbb80bb127e2f4bc1807a1cacf2394fb1"
  },
  "language_info": {
   "codemirror_mode": {
    "name": "ipython",
    "version": 3
   },
   "file_extension": ".py",
   "mimetype": "text/x-python",
   "name": "python",
   "nbconvert_exporter": "python",
   "pygments_lexer": "ipython3",
   "version": "3.8.2"
  }
 },
 "nbformat": 4,
 "nbformat_minor": 4
}

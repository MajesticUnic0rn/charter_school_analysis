{
 "cells": [
  {
   "cell_type": "markdown",
   "metadata": {},
   "source": [
    "### Import Packages "
   ]
  },
  {
   "cell_type": "code",
   "execution_count": 1,
   "metadata": {},
   "outputs": [],
   "source": [
    "from bs4 import BeautifulSoup\n",
    "import pandas as pd\n",
    "import numpy as np\n",
    "import requests\n",
    "import nltk\n",
    "import scrapy\n",
    "#nltk.download('stopwords') - gotta run this first time\n",
    "#nltk.download('punkt')\n",
    "import re\n",
    "import urllib\n",
    "import html2text\n",
    "from nltk.tokenize import word_tokenize\n",
    "from nltk.corpus import stopwords\n",
    "from nltk import FreqDist\n",
    "import matplotlib.pyplot as plt\n",
    "import seaborn as sns\n",
    "import string \n",
    "%matplotlib inline\n",
    "sns.set()\n",
    "alphabet_string = string.ascii_lowercase\n",
    "alphabet_list = list(alphabet_string)\n",
    "stop_words = list(set(stopwords.words('english')))\n",
    "nltk_stopwords_list = stopwords.words('english')\n",
    "nltk_stopwords_list += alphabet_list\n",
    "nltk_stopwords_list += list(string.punctuation)\n",
    "nltk_stopwords_list += ['schools' ,'school', '\\'s','contact','us','facebook','grade','calendar']\n",
    "blacklist = ['noscript','header','html','meta','head', 'input','script','style','header','footer']\n",
    "socialMediaList = ['facebook','twitter','instagram','youtube','linkedin','google analytic']\n",
    "socialMediaDataFrame = pd.DataFrame(columns=socialMediaList)\n",
    "headers = {'User-Agent': 'Mozilla/5.0 (Macintosh; Intel Mac OS X 10_10_1) AppleWebKit/537.36 (KHTML, like Gecko) Chrome/39.0.2171.95 Safari/537.36',\n",
    "            \"Accept-Encoding\": \"*\",\n",
    "            \"Connection\": \"keep-alive\"}"
   ]
  },
  {
   "cell_type": "markdown",
   "metadata": {},
   "source": [
    "### Custom Functions to Add Here"
   ]
  },
  {
   "cell_type": "code",
   "execution_count": 3,
   "metadata": {},
   "outputs": [
    {
     "data": {
      "text/html": [
       "<style>.container { width:100% !important; }</style>"
      ],
      "text/plain": [
       "<IPython.core.display.HTML object>"
      ]
     },
     "metadata": {},
     "output_type": "display_data"
    }
   ],
   "source": [
    "from IPython.core.display import display, HTML\n",
    "display(HTML(\"<style>.container { width:100% !important; }</style>\"))"
   ]
  },
  {
   "cell_type": "markdown",
   "metadata": {},
   "source": [
    "### Import CSV for Charter School Hyper Link and Clean Links"
   ]
  },
  {
   "cell_type": "code",
   "execution_count": 2,
   "metadata": {},
   "outputs": [],
   "source": [
    "importedCharterSchoolData=pd.read_csv(\"D:/Dropbox/CharterSchoolWebAnalysis/CharterSchools.csv\")\n",
    "pattern = 'http[s]?://(?:[a-zA-Z]|[0-9]|[$-_@.&+]|[!*\\(\\), ]|(?:%[0-9a-fA-F][0-9a-fA-F]))+'\n",
    "importedCharterSchoolData['URL School Address']=importedCharterSchoolData['URL School Address'].astype(str)\n",
    "importedCharterSchoolData['URL School Address']=importedCharterSchoolData['URL School Address'].where((importedCharterSchoolData['URL School Address'].str.contains(pattern)) , \"https://\" + importedCharterSchoolData['URL School Address'])\n",
    "urlCharterSchoolList=list(importedCharterSchoolData['URL School Address'])  "
   ]
  },
  {
   "cell_type": "markdown",
   "metadata": {},
   "source": [
    "### WebScrap based on HyperLink"
   ]
  },
  {
   "cell_type": "code",
   "execution_count": 185,
   "metadata": {},
   "outputs": [],
   "source": [
    "#fake a header \n",
    "headers = {'User-Agent': 'Mozilla/5.0 (Macintosh; Intel Mac OS X 10_10_1) AppleWebKit/537.36 (KHTML, like Gecko) Chrome/39.0.2171.95 Safari/537.36'}\n",
    "hyperLinkTemplate = \"https://www.charlottelabschool.org/\"\n",
    "RequestedPage= requests.get(hyperLinkTemplate, headers =headers)\n",
    "if (RequestedPage.status_code != 200):\n",
    "    print (hyperLinkTemplate + \" does not work please check hyperlink again\")\n",
    "soup = BeautifulSoup(RequestedPage.content,'html.parser')"
   ]
  },
  {
   "cell_type": "code",
   "execution_count": 186,
   "metadata": {},
   "outputs": [],
   "source": [
    "for script in soup([\"script\", \"style\"]):\n",
    "    script.decompose()    # rip it out\n",
    "# get text\n",
    "text = soup.get_text()\n",
    "# break into lines and remove leading and trailing space on each\n",
    "lines = (line.strip() for line in text.splitlines())\n",
    "# break multi-headlines into a line each\n",
    "chunks = (phrase.strip() for line in lines for phrase in line.split(\"  \"))\n",
    "# drop blank lines\n",
    "text = '\\n'.join(chunk for chunk in chunks if chunk)\n",
    "#remove \\n new lines out\n",
    "text=text.replace('\\n', ' ')"
   ]
  },
  {
   "cell_type": "code",
   "execution_count": 187,
   "metadata": {},
   "outputs": [],
   "source": [
    "tokenized_list=word_tokenize(text)\n",
    "tokenized_list=[x.lower() for x in tokenized_list]\n",
    "cleaned_and_tokenized_list = [w.lower() for w in tokenized_list if w not in nltk_stopwords_list]\n",
    "cleaned_freqdist = FreqDist(cleaned_and_tokenized_list)"
   ]
  },
  {
   "cell_type": "code",
   "execution_count": 188,
   "metadata": {
    "scrolled": true
   },
   "outputs": [
    {
     "data": {
      "image/png": "[encoded data removed]",
      "text/plain": [
       "<Figure size 432x288 with 1 Axes>"
      ]
     },
     "metadata": {},
     "output_type": "display_data"
    },
    {
     "data": {
      "text/plain": [
       "<matplotlib.axes._subplots.AxesSubplot at 0x273da6959d0>"
      ]
     },
     "execution_count": 188,
     "metadata": {},
     "output_type": "execute_result"
    }
   ],
   "source": [
    "cleaned_freqdist.plot(25)"
   ]
  },
  {
   "cell_type": "code",
   "execution_count": 109,
   "metadata": {},
   "outputs": [
    {
     "data": {
      "text/plain": [
       "196"
      ]
     },
     "execution_count": 109,
     "metadata": {},
     "output_type": "execute_result"
    }
   ],
   "source": [
    "importedCharterSchoolData=pd.read_csv('D:/Dropbox/CharterSchoolWebAnalysis/CharterSchools.csv')\n",
    "url = re.compile(r\"https?://(www\\.)?\")\n",
    "pattern = 'http[s]?://(?:[a-zA-Z]|[0-9]|[$-_@.&+]|[!*\\(\\), ]|(?:%[0-9a-fA-F][0-9a-fA-F]))+'\n",
    "importedCharterSchoolData['URL School Address']=importedCharterSchoolData['URL School Address'].astype(str)\n",
    "importedCharterSchoolData['URL School Address']=importedCharterSchoolData['URL School Address'].where((importedCharterSchoolData['URL School Address'].str.contains(pattern)) , \"https://\" + importedCharterSchoolData['URL School Address'])\n",
    "urlCharterSchoolList=list(importedCharterSchoolData['URL School Address'])  \n",
    "urlCharterSchoolListDomain=list(importedCharterSchoolData['URL School Address'].str.replace(url, ''))\n",
    "len (list(importedCharterSchoolData['URL School Address'].str.replace(url, '')))"
   ]
  },
  {
   "cell_type": "code",
   "execution_count": 112,
   "metadata": {},
   "outputs": [
    {
     "data": {
      "text/plain": [
       "191"
      ]
     },
     "execution_count": 112,
     "metadata": {},
     "output_type": "execute_result"
    }
   ],
   "source": [
    "allImportedLinks=pd.read_csv(\"correctedDomains.csv\")\n",
    "list_allImportedLinks=list(allImportedLinks['domain'].unique())\n",
    "\n",
    "len(urlCharterSchoolListDomain)\n",
    "len(list_allImportedLinks)"
   ]
  },
  {
   "cell_type": "code",
   "execution_count": 113,
   "metadata": {},
   "outputs": [
    {
     "data": {
      "text/plain": [
       "['columbuscharterschool.net',\n",
       " 'kippenc.org/school-details/kipp-durham-college-prep-public-school/',\n",
       " 'southeasternacademy.org/',\n",
       " 'successinstitutecharterschool.com']"
      ]
     },
     "execution_count": 113,
     "metadata": {},
     "output_type": "execute_result"
    }
   ],
   "source": [
    "def intersection(lst1, lst2): \n",
    "    lst3 = [value for value in lst1 if value in lst2] \n",
    "    return lst3 \n",
    "def Diff(li1, li2): \n",
    "    li_dif = [i for i in li1 + li2 if i not in li1 or i not in li2] \n",
    "    return li_dif \n",
    "linksTheSame= intersection(list_allImportedLinks,urlCharterSchoolListDomain)\n",
    "len(linksTheSame)\n",
    "Diff(list_allImportedLinks,urlCharterSchoolListDomain)\n",
    "runAgainLinks=Diff(list_allImportedLinks,urlCharterSchoolListDomain)\n",
    "runAgainLinks"
   ]
  },
  {
   "cell_type": "code",
   "execution_count": 94,
   "metadata": {},
   "outputs": [],
   "source": [
    "allImportedLinks.loc[allImportedLinks['url_from'] == 'https://globalscholarsacademy.org/', 'domain']= 'globalscholarsacademy.org/'\n",
    "allImportedLinks.loc[allImportedLinks['url_from'] == 'https://www.iredellcharter.org/', 'domain']= 'iredellcharter.org'\n",
    "allImportedLinks.to_csv('correctedDomains.csv')"
   ]
  },
  {
   "cell_type": "code",
   "execution_count": 12,
   "metadata": {},
   "outputs": [],
   "source": [
    "### Clean up op on url domains\n",
    "modelingRecord = pd.read_csv('modelingRecord.csv')\n",
    "modelingRecord['corpusFileName']=modelingRecord['urlDomain'].str.replace('/' , '')\n",
    "modelingRecord.to_csv('modelingRecord.csv')"
   ]
  },
  {
   "cell_type": "code",
   "execution_count": 19,
   "metadata": {},
   "outputs": [],
   "source": [
    "# modelingRecord = pd.read_csv('UpdatedCharterSchools.csv')\n",
    "# modelingRecord=modelingRecord[['Poverty Level','Official School Name',\n",
    "#                 'School Physical Address','School Physical Address City',\n",
    "#                 'School Physical Address State','School Physical Address Zip','County Description']]\n",
    "# modelingRecord['urlDomain'] = urlCharterSchoolListDomain\n",
    "# modelingRecord['urlAddress'] = urlCharterSchoolList\n",
    "#modelingRecord.to_csv('modelingRecord.csv')\n",
    "# modelingRecord\n",
    "# copyOfDf=pd.merge(modelingRecord,allImportedLinks, left_on = 'urlDomain', right_on = ['domain'] , how = 'right' )\n",
    "#copyOfDf['corpusFileName']=copyOfDf['urlDomain'].str.replace('/' , '')\n",
    "#copyOfDf.to_csv('modelingRecordWithLinks.csv')\n",
    "copyOfDf = pd.read_csv('modelingRecordWithLinks.csv') "
   ]
  },
  {
   "cell_type": "code",
   "execution_count": 5,
   "metadata": {
    "scrolled": false
   },
   "outputs": [
    {
     "name": "stdout",
     "output_type": "stream",
     "text": [
      "https://www.aceacademycharter.org/apps/pages/index.jsp?pREC_ID=933341&type=d&uREC_ID=1048747 does not work please check hyperlink again\n",
      "https://www.aceacademycharter.org/apps/pages/index.jsp?pREC_ID=933259&type=d&uREC_ID=427648 does not work please check hyperlink again\n",
      "https://www.alphaacademy.education/tel:9102237711 does not work please check hyperlink again\n",
      "https://www.alphaacademy.education/tel:9106789011 does not work please check hyperlink again\n",
      "http://www.artspacecharter.org/?page_id=8513 does not work please check hyperlink again\n",
      "http://www.artspacecharter.org/news does not work please check hyperlink again\n",
      "https://beargrasscharter.org/about-us/bgcs-admissions-and-enrollment/ does not work please check hyperlink again\n",
      "https://www.bradfordprep.org/apps/pages/index.jsp?pREC_ID=1217177&type=d&uREC_ID=849446 does not work please check hyperlink again\n",
      "https://carolina.teamcfa.school/enrollment/how-to-enroll/ does not work please check hyperlink again\n",
      "https://carolina.teamcfa.school/?page_id=29 does not work please check hyperlink again\n",
      "http://carterschool.org/board does not work please check hyperlink again\n",
      "http://carterschool.org/about/news-archives/ does not work please check hyperlink again\n",
      "http://carterschool.org/tel:9197972340 does not work please check hyperlink again\n",
      "https://cartergwoodsonschool.org/wp-content/themes/cartergwoodson/ does not work please check hyperlink again\n",
      "http://www.cemcs.org/tel:9198559811 does not work please check hyperlink again\n",
      "http://www.cpscnc.org/node/add/news-blurb does not work please check hyperlink again\n",
      "serious issues with this link http://www.cpscnc.org/node/474\n",
      "serious issues with this link http://www.cpscnc.org/node/475\n"
     ]
    },
    {
     "name": "stderr",
     "output_type": "stream",
     "text": [
      "Some characters could not be decoded, and were replaced with REPLACEMENT CHARACTER.\n"
     ]
    },
    {
     "name": "stdout",
     "output_type": "stream",
     "text": [
      "http://www.csdspartans.org/for_parents/HotLunch does not work please check hyperlink again\n",
      "http://www.csdspartans.org/cms/www.csdPowerofWe.org does not work please check hyperlink again\n",
      "http://www.corvian.org/protected/MasterCalendar.aspx?d=&dasi=4YG32&e=&g=&vs=13 does not work please check hyperlink again\n",
      "https://www.corvian.org/protected/ArticleArchive.aspx?a=&cp=1Z&dasi=4G3GI&ed=&n=&p=5A2GAB&q=&sd=&vs=1G does not work please check hyperlink again\n",
      "http://www.douglassacademy.net/newsandupdates/category/blog/ does not work please check hyperlink again\n",
      "https://enoriveracademy.org/tel:9196446272 does not work please check hyperlink again\n",
      "http://www.franklinacademy.org/+19195544911 does not work please check hyperlink again\n",
      "http://www.franklinacademy.org/+19195708262 does not work please check hyperlink again\n",
      "http://www.franklinacademy.org/+19194535090 does not work please check hyperlink again\n",
      "https://globalscholarsacademy.org/tel:9196825903 does not work please check hyperlink again\n",
      "https://globalscholarsacademy.org/tel:9199568535 does not work please check hyperlink again\n",
      "https://www.graystoneday.org/AcademicTeams.aspx does not work please check hyperlink again\n",
      "https://www.graystoneday.org/HonorSocieties.aspx does not work please check hyperlink again\n"
     ]
    },
    {
     "name": "stderr",
     "output_type": "stream",
     "text": [
      "Some characters could not be decoded, and were replaced with REPLACEMENT CHARACTER.\n",
      "Some characters could not be decoded, and were replaced with REPLACEMENT CHARACTER.\n",
      "Some characters could not be decoded, and were replaced with REPLACEMENT CHARACTER.\n",
      "Some characters could not be decoded, and were replaced with REPLACEMENT CHARACTER.\n",
      "Some characters could not be decoded, and were replaced with REPLACEMENT CHARACTER.\n"
     ]
    },
    {
     "name": "stdout",
     "output_type": "stream",
     "text": [
      "https://www.healthystartacademy.org/apps/pages/index.jsp?pREC_ID=1433846&type=d&uREC_ID=1190134 does not work please check hyperlink again\n",
      "http://hendersoncollegiate.org/tell:2525722514 does not work please check hyperlink again\n",
      "http://hendersoncollegiate.org/tell:2525981038 does not work please check hyperlink again\n",
      "http://hendersoncollegiate.org/tell:2525981039 does not work please check hyperlink again\n",
      "serious issues with this link https://hobgoodcharterschool.org/\n",
      "https://hobgoodcharterschool.org/tel:2522421880 does not work please check hyperlink again\n",
      "http://sites.icimagine.org/scopes/ does not work please check hyperlink again\n",
      "serious issues with this link https://apply.iredellcharter.org/apply/\n",
      "http://www.islandmontessorischool.com/preschool.html does not work please check hyperlink again\n",
      "http://www.islandmontessorischool.com/charter.html does not work please check hyperlink again\n",
      "serious issues with this link https://apply.langtreecharter.org/apply/\n",
      "serious issues with this link https://applyupperschool.langtreecharter.org/apply/\n",
      "https://www.lincolncharter.org/apps/pages/index.jsp?pREC_ID=1709787&type=d&uREC_ID=1582118 does not work please check hyperlink again\n",
      "https://www.lincolncharter.org/apps/pages/index.jsp?pREC_ID=1813807&type=d&uREC_ID=1664487 does not work please check hyperlink again\n",
      "https://www.lincolncharter.org/tel:7044836611 does not work please check hyperlink again\n",
      "https://www.lincolncharter.org/tel:7044894343 does not work please check hyperlink again\n",
      "https://www.lincolncharter.org/tel:7047369888 does not work please check hyperlink again\n",
      "https://www.lincolncharter.org/tel:7047364549 does not work please check hyperlink again\n",
      "https://www.joycharter.org/for-staff does not work please check hyperlink again\n",
      "https://monroecharteracademy.org/event does not work please check hyperlink again\n",
      "https://www.mooremontessori.org/take-action-bedford does not work please check hyperlink again\n"
     ]
    },
    {
     "name": "stderr",
     "output_type": "stream",
     "text": [
      "Some characters could not be decoded, and were replaced with REPLACEMENT CHARACTER.\n",
      "Some characters could not be decoded, and were replaced with REPLACEMENT CHARACTER.\n",
      "Some characters could not be decoded, and were replaced with REPLACEMENT CHARACTER.\n"
     ]
    },
    {
     "name": "stdout",
     "output_type": "stream",
     "text": [
      "https://www.movementschool.com/about-movement/ does not work please check hyperlink again\n",
      "serious issues with this link https://www.movementschool.com/school-nutrition-non-discrimination-statement/\n",
      "serious issues with this link https://www.movementschool.com/local-wellness-policy/\n",
      "https://ncva.k12.com/tel:8556693660 does not work please check hyperlink again\n",
      "http://nextgenerationacademy.net/news-list-vc/ does not work please check hyperlink again\n",
      "http://www.paulrbrownleadership.com/under-construction.html does not work please check hyperlink again\n",
      "serious issues with this link https://www.pahp.com/middle-school/\n",
      "serious issues with this link https://www.pahp.com/high-school/\n",
      "serious issues with this link https://www.pahp.com/lottery/\n",
      "serious issues with this link https://www.pahp.com/report-card-history/\n",
      "serious issues with this link https://www.pahp.com/k-1-grade/\n",
      "serious issues with this link https://www.pahp.com/2-5-grade/\n",
      "https://www.pinnacleclassicalacademy.com/news/headmaster does not work please check hyperlink again\n",
      "https://www.pinnacleclassicalacademy.com/?Itemid=232 does not work please check hyperlink again\n",
      "https://www.pioneersprings.org/tel:7044940777 does not work please check hyperlink again\n",
      "https://www.pioneersprings.org/tel:7044940288 does not work please check hyperlink again\n"
     ]
    },
    {
     "name": "stderr",
     "output_type": "stream",
     "text": [
      "Some characters could not be decoded, and were replaced with REPLACEMENT CHARACTER.\n"
     ]
    },
    {
     "name": "stdout",
     "output_type": "stream",
     "text": [
      "https://www.questcharter.org/tel:9198410441 does not work please check hyperlink again\n",
      "https://srca.teamcfa.school/www.SRCAFalcons.com does not work please check hyperlink again\n",
      "https://srca.teamcfa.school/enrollment/apply-now/ does not work please check hyperlink again\n",
      "https://srca.teamcfa.school/workforsrca/ does not work please check hyperlink again\n",
      "https://www.sterlingmontessori.org/tel:9194628889 does not work please check hyperlink again\n",
      "https://bcca.teamcfa.school/tel:7042850441 does not work please check hyperlink again\n",
      "https://bcca.teamcfa.school/7042850441 does not work please check hyperlink again\n",
      "https://www.capitolencoreacademy.org/tel:9108490888 does not work please check hyperlink again\n",
      "https://www.capitolencoreacademy.org/fax:9104916786 does not work please check hyperlink again\n",
      "https://www.capitolencoreacademy.org/www.facebook.com/tceaarts does not work please check hyperlink again\n",
      "http://www.cvatigers.com/enrollment/supply_list___k-5 does not work please check hyperlink again\n",
      "http://www.cvatigers.com/enrollment/supply_list__4-8_ does not work please check hyperlink again\n",
      "serious issues with this link http://http//cvatigers.com/cms/One.aspx?pageId=21821749&portalId=21785400\n"
     ]
    },
    {
     "name": "stderr",
     "output_type": "stream",
     "text": [
      "Some characters could not be decoded, and were replaced with REPLACEMENT CHARACTER.\n"
     ]
    },
    {
     "name": "stdout",
     "output_type": "stream",
     "text": [
      "serious issues with this link https://www.exploris.org/news/holt-news-observer/\n"
     ]
    },
    {
     "name": "stderr",
     "output_type": "stream",
     "text": [
      "Some characters could not be decoded, and were replaced with REPLACEMENT CHARACTER.\n"
     ]
    },
    {
     "name": "stdout",
     "output_type": "stream",
     "text": [
      "https://threeriversacademy.net/tel:2525131990 does not work please check hyperlink again\n",
      "https://tillerycharteracademy.org/event does not work please check hyperlink again\n"
     ]
    },
    {
     "name": "stderr",
     "output_type": "stream",
     "text": [
      "Some characters could not be decoded, and were replaced with REPLACEMENT CHARACTER.\n",
      "Some characters could not be decoded, and were replaced with REPLACEMENT CHARACTER.\n",
      "Some characters could not be decoded, and were replaced with REPLACEMENT CHARACTER.\n",
      "Some characters could not be decoded, and were replaced with REPLACEMENT CHARACTER.\n",
      "Some characters could not be decoded, and were replaced with REPLACEMENT CHARACTER.\n",
      "Some characters could not be decoded, and were replaced with REPLACEMENT CHARACTER.\n",
      "Some characters could not be decoded, and were replaced with REPLACEMENT CHARACTER.\n"
     ]
    },
    {
     "name": "stdout",
     "output_type": "stream",
     "text": [
      "https://www.unionacademy.org/apps/pages/index.jsp?pREC_ID=1821113&type=d&uREC_ID=734566 does not work please check hyperlink again\n",
      "serious issues with this link https://unityclassical.teamcfa.school/calendar/action~agenda/events_limit~5/request_format~html/\n",
      "https://www.uwharriecharter.org/apps/pages/index.jsp?type=d&uREC_ID=1676265 does not work please check hyperlink again\n",
      "https://www.uwharriecharter.org/apps/pages/index.jsp?pREC_ID=1535445&type=d&uREC_ID=1313733 does not work please check hyperlink again\n",
      "https://www.uwharriecharter.org/apps/pages/index.jsp?pREC_ID=1535443&type=d&uREC_ID=1320738 does not work please check hyperlink again\n",
      "https://www.uwharriecharter.org/apps/pages/index.jsp?type=d&uREC_ID=1671336 does not work please check hyperlink again\n",
      "http://www.uwharriecharter.org/apps/pages/index.jsp?pREC_ID=1348640&type=d&uREC_ID=1050333 does not work please check hyperlink again\n",
      "http://www.uwharriecharter.org/apps/pages/index.jsp?pREC_ID=1348641&type=d&uREC_ID=1050333 does not work please check hyperlink again\n",
      "https://www.uwharriecharter.org/tel:3366100816 does not work please check hyperlink again\n",
      "https://www.uwharriecharter.org/tel:3366100819 does not work please check hyperlink again\n",
      "https://www.uwharriecharter.org/tel:3366100820 does not work please check hyperlink again\n",
      "https://www.uwharriecharter.org/tel:3366100822 does not work please check hyperlink again\n",
      "https://www.watersedgevillageschool.com/parentresources does not work please check hyperlink again\n"
     ]
    }
   ],
   "source": [
    "# import urllib3\n",
    "# import time\n",
    "# urllib3.disable_warnings()\n",
    "# requests.packages.urllib3.util.ssl_.DEFAULT_CIPHERS='ALL'\n",
    "# #Exclude use of pyopenssl (pyopenssl module may need to be installed first $pip install pyopenssl)\n",
    "# requests.packages.urllib3.contrib.pyopenssl.extract_from_urllib3()\n",
    "# listofAllUrlLink = list(copyOfDf['url_to'])\n",
    "# listOfFileName=list(copyOfDf['corpusFileName'])\n",
    "# #listOfAllUrlLink = ['https://www.aceacademycharter.org/']\n",
    "\n",
    "# for (eachFileName,eachUrlLink) in zip(listOfFileName,listofAllUrlLink):\n",
    "#     corpusFile = open(f'D:/Dropbox/CharterSchoolWebAnalysis/charterSchoolCorpus/{eachFileName}.text' ,'a', encoding=\"utf-8\") \n",
    "#     try:\n",
    "#         RequestedPage= requests.get(eachUrlLink, headers =headers, verify=False, timeout=100 )\n",
    "#     except:\n",
    "#         print(f'serious issues with this link {eachUrlLink}')\n",
    "    \n",
    "#     if (RequestedPage.status_code != 200):\n",
    "#         print (eachUrlLink + \" does not work please check hyperlink again\")\n",
    "#     else:\n",
    "#         soup = BeautifulSoup(RequestedPage.content,'html.parser')\n",
    "#         for script in soup([\"script\", \"style\"]):\n",
    "#             script.decompose()    # rip it out\n",
    "#             # get text\n",
    "#         text = soup.get_text()\n",
    "#             # break into lines and remove leading and trailing space on each\n",
    "#         lines = (line.strip() for line in text.splitlines())\n",
    "#             # break multi-headlines into a line each\n",
    "#         chunks = (phrase.strip() for line in lines for phrase in line.split(\"  \"))\n",
    "#             # drop blank lines\n",
    "#         text = '\\n'.join(chunk for chunk in chunks if chunk)\n",
    "#             #remove \\n new lines out\n",
    "#         text=text.replace('\\n', ' ')\n",
    "#         tokenized_list=word_tokenize(text)\n",
    "#         tokenized_list=[x.lower() for x in tokenized_list]\n",
    "#         cleaned_and_tokenized_list = [w.lower() for w in tokenized_list if w not in nltk_stopwords_list]\n",
    "\n",
    "#         for item in cleaned_and_tokenized_list:\n",
    "#             corpusFile.write(\"%s\\n\" % item)    \n",
    "#         corpusFile.close()\n"
   ]
  },
  {
   "cell_type": "code",
   "execution_count": 6,
   "metadata": {},
   "outputs": [],
   "source": [
    "corpusFile.close()"
   ]
  },
  {
   "cell_type": "code",
   "execution_count": 191,
   "metadata": {},
   "outputs": [],
   "source": [
    "cleaned_freqdist = FreqDist(x)"
   ]
  },
  {
   "cell_type": "code",
   "execution_count": 192,
   "metadata": {},
   "outputs": [
    {
     "data": {
      "image/png": "[encoded data removed]",
      "text/plain": [
       "<Figure size 432x288 with 1 Axes>"
      ]
     },
     "metadata": {},
     "output_type": "display_data"
    },
    {
     "data": {
      "text/plain": [
       "<matplotlib.axes._subplots.AxesSubplot at 0x273da6a05b0>"
      ]
     },
     "execution_count": 192,
     "metadata": {},
     "output_type": "execute_result"
    }
   ],
   "source": [
    "cleaned_freqdist.plot(25)"
   ]
  },
  {
   "cell_type": "markdown",
   "metadata": {},
   "source": [
    "### Social Media Data Frame Scraper"
   ]
  },
  {
   "cell_type": "code",
   "execution_count": 111,
   "metadata": {},
   "outputs": [
    {
     "name": "stdout",
     "output_type": "stream",
     "text": [
      "http://www.roxborocommunityschool.org does not work please check hyperlink again\n"
     ]
    }
   ],
   "source": [
    "listOfUrlAddress=list(modelingRecord['urlAddress'])\n",
    "socialMediaDataFrame = pd.DataFrame()\n",
    "import urllib3\n",
    "urllib3.disable_warnings()\n",
    "for eachAddress in listOfUrlAddress:\n",
    "    listOfSocialMediaValues=[]\n",
    "    listOfValidUrlAddress=[]\n",
    "    problemLink = False\n",
    "    RequestedPage= requests.get(eachAddress, headers=headers, verify=False)\n",
    "    if (RequestedPage.status_code != 200):\n",
    "        print (eachAddress + \" does not work please check hyperlink again\")\n",
    "        problemLink= True #lmao its not being used at this time \n",
    "        # add an extra np.nan if you have another social media\n",
    "        listOfSocialMediaValues = [np.nan,np.nan,np.nan,np.nan,np.nan,np.nan]\n",
    "    else:\n",
    "        for eachSocialMedia in socialMediaList:\n",
    "            contentFromRequestAddress = RequestedPage.text.lower()\n",
    "            if(contentFromRequestAddress.find(eachSocialMedia) == -1):\n",
    "                # Pass the row elements as key value pairs to append() function \n",
    "                listOfSocialMediaValues.append(0)\n",
    "            else:\n",
    "                listOfSocialMediaValues.append(1)\n",
    "        \n",
    "    listOfSocialMediaValues.append(eachAddress)\n",
    "    hasMediaframe = pd.DataFrame(([listOfSocialMediaValues]) , columns=socialMediaList + ['urlAddress'] )\n",
    "    socialMediaDataFrame = socialMediaDataFrame.append(hasMediaframe)"
   ]
  },
  {
   "cell_type": "code",
   "execution_count": 3,
   "metadata": {},
   "outputs": [],
   "source": [
    "#modelingRecord=pd.merge(modelingRecord , socialMediaDataFrame, on = 'urlAddress', how = 'left' )\n",
    "#modelingRecord.to_csv('modelingRecord.csv')"
   ]
  },
  {
   "cell_type": "markdown",
   "metadata": {},
   "source": [
    "### CharterSchool Analysis\n"
   ]
  },
  {
   "cell_type": "code",
   "execution_count": 2,
   "metadata": {},
   "outputs": [],
   "source": [
    "modelingRecord = pd.read_csv('modelingRecordWithLinks.csv')"
   ]
  },
  {
   "cell_type": "code",
   "execution_count": 6,
   "metadata": {},
   "outputs": [],
   "source": [
    "corpusFileName=list(modelingRecord['corpusFileName'].unique())"
   ]
  },
  {
   "cell_type": "code",
   "execution_count": 7,
   "metadata": {},
   "outputs": [
    {
     "data": {
      "text/plain": [
       "['aceacademycharter.org',\n",
       " 'alphaacademy.education',\n",
       " 'arsnc.org',\n",
       " 'acacharter.com',\n",
       " 'aahsnc.org',\n",
       " 'arapahoecharter.org',\n",
       " 'aristotle.teamcfa.school',\n",
       " 'artspacecharter.org',\n",
       " 'ascendleadershipacademy.org',\n",
       " 'bluegreenacademy.org',\n",
       " 'beargrasscharter.org',\n",
       " 'bcmschool.com',\n",
       " 'bethelhill.net',\n",
       " 'bradfordprep.org',\n",
       " 'brevard.teamcfa.school',\n",
       " 'bridgesacademy.us',\n",
       " 'cisrobeson.org/cis-academy',\n",
       " 'cabarruscharter.org',\n",
       " 'cfci.net',\n",
       " 'cardinalcharter.org',\n",
       " 'carolina.teamcfa.school',\n",
       " 'ciscomets.com',\n",
       " 'carterschool.org',\n",
       " 'cartergwoodsonschool.org',\n",
       " 'cemcs.org',\n",
       " 'cpscnc.org',\n",
       " 'centralwakehs.com',\n",
       " 'charlottelabschool.org',\n",
       " 'charlottesecondary.org',\n",
       " 'charterdayschool.net',\n",
       " 'chathamcharter.org',\n",
       " 'cgsnc.org',\n",
       " 'coastalprep.teamcfa.school',\n",
       " 'commonwealthhs.com',\n",
       " 'cpcsnc.org',\n",
       " 'csdspartans.org',\n",
       " 'concordlakeacademy.org',\n",
       " 'cornerstone.teamcfa.school',\n",
       " 'corvian.org',\n",
       " 'crosscreekcharterschool.com',\n",
       " 'davidsoncharter.org',\n",
       " 'dillardacademy.org',\n",
       " 'discoverycharterdurham.org',\n",
       " 'douglassacademy.net',\n",
       " 'eastvoyager.org',\n",
       " 'eastwakeacademy.org',\n",
       " 'eastsidestream.org',\n",
       " 'emereau.org',\n",
       " 'endeavorcharterschool.com',\n",
       " 'enoriveracademy.org',\n",
       " 'envisionscienceacademy.com',\n",
       " 'essiesschool.com',\n",
       " 'evergreenccs.org',\n",
       " 'excelsior.teamcfa.school',\n",
       " 'fallslakeacademy.com',\n",
       " 'fernleafccs.org',\n",
       " 'nhaschools.com/schools/Forsyth-Academy/en',\n",
       " 'fdnsc.net',\n",
       " 'franklinacademy.org',\n",
       " 'nhaschools.com/schools/Gate-City-Charter-Academy/en',\n",
       " 'glowacademy.net',\n",
       " 'globalscholarsacademy.org',\n",
       " 'childrenshopealliance.org/grandfather-academy',\n",
       " 'graystoneday.org',\n",
       " 'nhaschools.com/schools/Greensboro-Academy/en',\n",
       " 'guilfordprep.org',\n",
       " 'hstsedu.org',\n",
       " 'healthystartacademy.org',\n",
       " 'hendersoncollegiate.org',\n",
       " 'hobgoodcharterschool.org',\n",
       " 'icimagine.org',\n",
       " 'ignitepitt.org',\n",
       " 'ictransform.org',\n",
       " 'iredellcharter.org',\n",
       " 'islandmontessorischool.com',\n",
       " 'nhaschools.com/schools/johnston',\n",
       " 'kippcharlotte.org',\n",
       " 'kippenc.org',\n",
       " 'kestrelheights.org',\n",
       " 'llcharter.org',\n",
       " 'lncharter.org',\n",
       " 'lakesidecharteracademy.com',\n",
       " 'langtreecharter.org',\n",
       " 'lincolncharter.org',\n",
       " 'longleafschool.org',\n",
       " 'mcstemacademy.net',\n",
       " 'williamsacademy.org',\n",
       " 'nhaschools.com/schools/Matthews-Charter-Academy/en',\n",
       " 'joycharter.org',\n",
       " 'scholarsacademy.org',\n",
       " 'mcacademy.com',\n",
       " 'monroecharteracademy.org',\n",
       " 'mooremontessori.org',\n",
       " 'mountaindiscovery.org',\n",
       " 'micharter.org',\n",
       " 'midschool.org',\n",
       " 'movementschool.com',\n",
       " 'thencla.org',\n",
       " 'ncva.k12.com',\n",
       " 'neusecharterschool.org',\n",
       " 'ndschool.org',\n",
       " 'nextgenerationacademy.net',\n",
       " 'myncca.com',\n",
       " 'necprepschool.com',\n",
       " 'northeastacademy.org',\n",
       " 'oxfordprep.org',\n",
       " 'paveschools.org',\n",
       " 'paulrbrownleadership.com',\n",
       " 'nhaschools.com/schools/Peak-Charter-Academy/en',\n",
       " 'pahp.com',\n",
       " 'piedmontclassical.com',\n",
       " 'pccharter.teamcfa.school',\n",
       " 'pinelakeprep.org',\n",
       " 'pspa.teamcfa.school',\n",
       " 'pinnacleclassicalacademy.com',\n",
       " 'pioneersprings.org',\n",
       " 'pocosininnovative.com',\n",
       " 'nhaschools.com/schools/preeminent-charter-school/en/school-lunch',\n",
       " 'qeschools.org',\n",
       " 'queencitystem.org',\n",
       " 'nhaschools.com/schools/Queens-Grant-Community-School/en',\n",
       " 'questcharter.org',\n",
       " 'raleighcharterhs.org',\n",
       " 'raleighoakcharter.org',\n",
       " 'reachingallminds.com',\n",
       " 'nhaschools.com/schools/Research-Triangle-Charter-Academy/en',\n",
       " 'researchtrianglehighschool.org',\n",
       " 'ridgeviewcharter.org',\n",
       " 'rivermill-academy.org',\n",
       " 'rmprep.org',\n",
       " 'nhaschools.com/schools/rolesville',\n",
       " 'roxborocs.org',\n",
       " 'salliebhowardschool.com',\n",
       " 'starscharter.org',\n",
       " 'srca.teamcfa.school',\n",
       " 'socratesacademy.us',\n",
       " 'southbcs.org',\n",
       " 'swake.org',\n",
       " 'scstemacademy.net',\n",
       " 'steelecreekprep.org',\n",
       " 'sterlingmontessori.org',\n",
       " 'stewartcreekhs.com',\n",
       " 'thesugarcreek.org',\n",
       " 'nhaschools.com/schools/Summerfield-Charter-Academy/en',\n",
       " 'summitschool.org',\n",
       " 'bcca.teamcfa.school',\n",
       " 'academyofmoorecounty.org',\n",
       " 'artsbasedschool.com',\n",
       " 'capitolencoreacademy.org',\n",
       " 'cvatigers.com',\n",
       " 'thepointcollegeprep.org',\n",
       " 'theexpeditionschool.com',\n",
       " 'theexperientialschoolgso.wordpress.com',\n",
       " 'exploris.org',\n",
       " 'franklinschoolofinnovation.org',\n",
       " 'thehawbridgeschool.org',\n",
       " 'theidylschool.org',\n",
       " 'naturallygrownkids.org',\n",
       " 'magellancharter.org',\n",
       " 'themountaincommunityschool.com',\n",
       " 'thomasacademync.org',\n",
       " 'tjca.teamcfa.school',\n",
       " 'threeriversacademy.net',\n",
       " 'tillerschool.org',\n",
       " 'tillerycharteracademy.org',\n",
       " 'tlaedu.org',\n",
       " 'tmsacharter.org',\n",
       " 'tmsacademy.org',\n",
       " 'trcsboone.org',\n",
       " 'unionacademy.org',\n",
       " 'uniondayschool.com',\n",
       " 'indiantrailprep.org',\n",
       " 'ucsnc.org',\n",
       " 'unityclassical.teamcfa.school',\n",
       " 'uproarleadership.org',\n",
       " 'uwharriecharter.org',\n",
       " 'veritas.teamcfa.school',\n",
       " 'vancecharter.org',\n",
       " 'voyageracademy.net',\n",
       " 'nhaschools.com/schools/Wake-Forest-Charter-Academy/en',\n",
       " 'wmpcs.org',\n",
       " 'watersedgevillageschool.com',\n",
       " 'wpanc.net',\n",
       " 'wlakeprep.org',\n",
       " 'charter.willowoakmontessori.org',\n",
       " 'wilmingtonprep.com',\n",
       " 'wilsonprep.org',\n",
       " 'nhaschools.com/schools/Winterville-Charter-Academy/en',\n",
       " 'woodscharter.org',\n",
       " 'youngsvilleacademy.org',\n",
       " 'zecaschoolofthearts.com']"
      ]
     },
     "execution_count": 7,
     "metadata": {},
     "output_type": "execute_result"
    }
   ],
   "source": [
    "corpusFileName"
   ]
  },
  {
   "cell_type": "code",
   "execution_count": 49,
   "metadata": {},
   "outputs": [],
   "source": [
    "povertySchool1FileName=list(modelingRecord[modelingRecord['Poverty Level'] == '1']['corpusFileName'])\n",
    "povertySchool2FileName=list(modelingRecord[modelingRecord['Poverty Level'] == '2']['corpusFileName'])\n",
    "povertySchool3FileName=list(modelingRecord[modelingRecord['Poverty Level'] == '3']['corpusFileName'])"
   ]
  },
  {
   "cell_type": "code",
   "execution_count": 51,
   "metadata": {},
   "outputs": [
    {
     "name": "stdout",
     "output_type": "stream",
     "text": [
      "alphaacademy.net.text didnt work\n",
      "aristotle.teamcfa.org.text didnt work\n",
      "bridgesacademy.us.text didnt work\n",
      "carolinacharter.org.text didnt work\n",
      "cornerstone.teamcfa.org.text didnt work\n",
      "forsyth.heritageacademies.com.text didnt work\n",
      "nhaschools.comschoolsgatecity.text didnt work\n",
      "greensboroacademy.org.text didnt work\n",
      "kippenc.orgschool-detailskipp-durham-college-prep-public-school.text didnt work\n",
      "matthewscharteracademy.org.text didnt work\n",
      "nhaschools.comschoolspeak.text didnt work\n",
      "pccharter.org.text didnt work\n",
      "pinespringsprep.org.text didnt work\n",
      "preeminentcharterschool.org.text didnt work\n",
      "queensgrantcommunityschool.org.text didnt work\n",
      "researchtriangle.heritageacademies.com.text didnt work\n",
      "roxborocommunityschool.org.text didnt work\n",
      "shiningrock.org.text didnt work\n",
      "southeasternacademy.org.text didnt work\n",
      "scstemacademy.org.text didnt work\n",
      "successinstitutecharterschool.com.text didnt work\n",
      "nhaschools.comschoolssummerfield.text didnt work\n",
      "tworiverscommunityschool.net.text didnt work\n",
      "unityclassical.comour-school.html.text didnt work\n",
      "veritascommunityschool.org.text didnt work\n",
      "nhaschools.comschoolswakeforest.text didnt work\n",
      "nhaschools.comschoolswinterville.text didnt work\n"
     ]
    }
   ],
   "source": [
    "poverty1TokenizedList = [] \n",
    "poverty2TokenizedList = []\n",
    "poverty3TokenizedList = [] \n",
    "for eachFileName in corpusFileName:\n",
    "    try:\n",
    "        with open(f'D:/Dropbox/CharterSchoolWebAnalysis/charterSchoolCorpus/{eachFileName}.text', 'r', encoding ='utf-8') as f:\n",
    "            x = f.read().splitlines()\n",
    "        if (eachFileName in povertySchool1FileName):\n",
    "            poverty1TokenizedList += x\n",
    "        elif (eachFileName in povertySchool2FileName):\n",
    "            poverty2TokenizedList += x\n",
    "        else:\n",
    "            poverty3TokenizedList += x\n",
    "    except:\n",
    "        print(f'{eachFileName}.text didnt work' )"
   ]
  },
  {
   "cell_type": "code",
   "execution_count": 66,
   "metadata": {},
   "outputs": [],
   "source": [
    "def cleanTokenizedList(povertyTokenizedList):\n",
    "    povertyTokenizedList = [str(i) for i in povertyTokenizedList]\n",
    "    povertyTokenizedList = [re.sub('[^a-zA-Z]+', '', _) for _ in povertyTokenizedList]\n",
    "    povertyTokenizedList = list(filter(None, povertyTokenizedList))\n",
    "    povertyTokenizedList = [ w for w in povertyTokenizedList if w not in nltk_stopwords_list]\n",
    "    return povertyTokenizedList\n",
    "\n",
    "\n",
    "poverty1TokenizedList = cleanTokenizedList(poverty1TokenizedList)\n",
    "poverty2TokenizedList = cleanTokenizedList(poverty2TokenizedList)\n",
    "poverty3TokenizedList = cleanTokenizedList(poverty3TokenizedList)\n"
   ]
  },
  {
   "cell_type": "code",
   "execution_count": 67,
   "metadata": {},
   "outputs": [],
   "source": [
    "cleaned_freqdist = FreqDist(poverty1TokenizedList)"
   ]
  },
  {
   "cell_type": "code",
   "execution_count": 68,
   "metadata": {},
   "outputs": [
    {
     "data": {
      "text/plain": [
       "FreqDist({'th': 49560, 'student': 19082, 'math': 18085, 'may': 17964, 'students': 17582, 'board': 16664, 'information': 15885, 'academy': 14872, 'nc': 14278, 'middle': 14023, ...})"
      ]
     },
     "execution_count": 68,
     "metadata": {},
     "output_type": "execute_result"
    }
   ],
   "source": [
    "cleaned_freqdist"
   ]
  },
  {
   "cell_type": "code",
   "execution_count": 69,
   "metadata": {},
   "outputs": [
    {
     "data": {
      "image/png": "[encoded data removed]",
      "text/plain": [
       "<Figure size 432x288 with 1 Axes>"
      ]
     },
     "metadata": {},
     "output_type": "display_data"
    },
    {
     "data": {
      "text/plain": [
       "<matplotlib.axes._subplots.AxesSubplot at 0x1cf28d79df0>"
      ]
     },
     "execution_count": 69,
     "metadata": {},
     "output_type": "execute_result"
    }
   ],
   "source": [
    "cleaned_freqdist.plot(50)"
   ]
  },
  {
   "cell_type": "code",
   "execution_count": 70,
   "metadata": {},
   "outputs": [],
   "source": [
    "cleaned_freqdist = FreqDist(poverty2TokenizedList)"
   ]
  },
  {
   "cell_type": "code",
   "execution_count": 71,
   "metadata": {},
   "outputs": [
    {
     "data": {
      "text/plain": [
       "FreqDist({'academy': 1680, 'students': 1220, 'parent': 1153, 'nc': 1079, 'charter': 1063, 'student': 1039, 'learning': 800, 'board': 792, 'information': 792, 'qe': 787, ...})"
      ]
     },
     "execution_count": 71,
     "metadata": {},
     "output_type": "execute_result"
    }
   ],
   "source": [
    "cleaned_freqdist"
   ]
  },
  {
   "cell_type": "code",
   "execution_count": 72,
   "metadata": {},
   "outputs": [
    {
     "data": {
      "image/png": "[encoded data removed]",
      "text/plain": [
       "<Figure size 432x288 with 1 Axes>"
      ]
     },
     "metadata": {},
     "output_type": "display_data"
    },
    {
     "data": {
      "text/plain": [
       "<matplotlib.axes._subplots.AxesSubplot at 0x1cf28e4ed90>"
      ]
     },
     "execution_count": 72,
     "metadata": {},
     "output_type": "execute_result"
    }
   ],
   "source": [
    "cleaned_freqdist.plot(50)"
   ]
  },
  {
   "cell_type": "code",
   "execution_count": 73,
   "metadata": {},
   "outputs": [],
   "source": [
    "cleaned_freqdist = FreqDist(poverty3TokenizedList)"
   ]
  },
  {
   "cell_type": "code",
   "execution_count": 74,
   "metadata": {},
   "outputs": [
    {
     "data": {
      "text/plain": [
       "FreqDist({'kipp': 16182, 'enc': 6878, 'students': 5319, 'college': 4873, 'academy': 4815, 'nc': 4597, 'charter': 3549, 'th': 3406, 'board': 3319, 'staff': 3255, ...})"
      ]
     },
     "execution_count": 74,
     "metadata": {},
     "output_type": "execute_result"
    }
   ],
   "source": [
    "cleaned_freqdist"
   ]
  },
  {
   "cell_type": "code",
   "execution_count": 75,
   "metadata": {},
   "outputs": [
    {
     "data": {
      "image/png": "[encoded data removed]",
      "text/plain": [
       "<Figure size 432x288 with 1 Axes>"
      ]
     },
     "metadata": {},
     "output_type": "display_data"
    },
    {
     "data": {
      "text/plain": [
       "<matplotlib.axes._subplots.AxesSubplot at 0x1cf28eb0760>"
      ]
     },
     "execution_count": 75,
     "metadata": {},
     "output_type": "execute_result"
    }
   ],
   "source": [
    "cleaned_freqdist.plot(50)"
   ]
  },
  {
   "cell_type": "code",
   "execution_count": null,
   "metadata": {},
   "outputs": [],
   "source": [
    "df.groupby(['A','C'])"
   ]
  }
 ],
 "metadata": {
  "kernelspec": {
   "display_name": "Python 3",
   "language": "python",
   "name": "python3"
  },
  "language_info": {
   "codemirror_mode": {
    "name": "ipython",
    "version": 3
   },
   "file_extension": ".py",
   "mimetype": "text/x-python",
   "name": "python",
   "nbconvert_exporter": "python",
   "pygments_lexer": "ipython3",
   "version": "3.8.2"
  }
 },
 "nbformat": 4,
 "nbformat_minor": 2
}

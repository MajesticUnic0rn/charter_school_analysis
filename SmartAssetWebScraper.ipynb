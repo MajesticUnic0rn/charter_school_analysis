{
 "cells": [
  {
   "cell_type": "code",
   "execution_count": 69,
   "metadata": {},
   "outputs": [],
   "source": [
    "from bs4 import BeautifulSoup\n",
    "import pandas as pd\n",
    "import numpy as np\n",
    "import requests\n",
    "from selenium import webdriver\n",
    "import lxml\n",
    "finalScrapedPandas=pd. DataFrame(columns=['County', 'Median Home Value', 'Median Annual Property Tax Payment'\n",
    "                                          ,'Average Effective Property Tax Rate', 'State'])\n",
    "#driver = webdriver.Chrome(executable_path=r\"C:\\Users\\Dingity Dong\\Downloads\\chromedriver.exe\")\n",
    "#RequestedPage = driver.execute_script('return document.body.innerHTML')\n",
    "stateFullName = [\"Alabama\",\"Alaska\",\"Arizona\",\"Arkansas\",\"California\",\"Colorado\",\n",
    "  \"Connecticut\",\"Delaware\",\"Florida\",\"Georgia\",\"Hawaii\",\"Idaho\",\"Illinois\",\n",
    "  \"Indiana\",\"Iowa\",\"Kansas\",\"Kentucky\",\"Louisiana\",\"Maine\",\"Maryland\",\n",
    "  \"Massachusetts\",\"Michigan\",\"Minnesota\",\"Mississippi\",\"Missouri\",\"Montana\",\n",
    "  \"Nebraska\",\"Nevada\",\"New Hampshire\",\"New Jersey\",\"New Mexico\",\"New York\",\n",
    "  \"North Carolina\",\"North Dakota\",\"Ohio\",\"Oklahoma\",\"Oregon\",\"Pennsylvania\",\n",
    "  \"Rhode Island\",\"South Carolina\",\"South Dakota\",\"Tennessee\",\"Texas\",\"Utah\",\n",
    "  \"Vermont\",\"Virginia\",\"Washington\",\"West Virginia\",\"Wisconsin\",\"Wyoming\"]\n",
    "\n",
    "statesAbbr = [\"AL\", \"AK\", \"AZ\", \"AR\", \"CA\", \"CO\", \"CT\", \"DE\", \"FL\", \"GA\", \n",
    "          \"HI\", \"ID\", \"IL\", \"IN\", \"IA\", \"KS\", \"KY\", \"LA\", \"ME\", \"MD\", \n",
    "          \"MA\", \"MI\", \"MN\", \"MS\", \"MO\", \"MT\", \"NE\", \"NV\", \"NH\", \"NJ\", \n",
    "          \"NM\", \"NY\", \"NC\", \"ND\", \"OH\", \"OK\", \"OR\", \"PA\", \"RI\", \"SC\", \n",
    "          \"SD\", \"TN\", \"TX\", \"UT\", \"VT\", \"VA\", \"WA\", \"WV\", \"WI\", \"WY\"]\n",
    "\n",
    "dictOfStates = dict(zip(stateFullName, statesAbbr)) \n",
    "\n",
    "# stateFullName = [\"Alabama\",\"Alaska\",\"Arizona\",\"Arkansas\"]"
   ]
  },
  {
   "cell_type": "code",
   "execution_count": 70,
   "metadata": {},
   "outputs": [],
   "source": [
    "\n",
    "for eachStateName in stateFullName:\n",
    "    stateHypenated = eachStateName.replace(' ', '-')\n",
    "    hyperLinkTemplate = \"https://smartasset.com/taxes/\"+stateHypenated.lower()+\"-property-tax-calculator\"\n",
    "    RequestedPage= requests.get(hyperLinkTemplate)\n",
    "    if (RequestedPage.status_code != 200):\n",
    "        print (hyperLinkTemplate + \" does not work please check hyperlink again\")\n",
    "    soup = BeautifulSoup(RequestedPage.content)\n",
    "    div = soup.findAll ('div',class_=\"table-border-top tab-ctr wide75 table-columns-left-center table-columns-tight hide-tabs-in-mobile\")\n",
    "    table_body = div[0].find('table') # extract the table from the divs \n",
    "    currentReadInDataFrame= pd.read_html(str(table_body))[0] #read the current html body into pandas \n",
    "    currentReadInDataFrame['State'] = eachStateName # add state name into it, cos county names are repeatable\n",
    "    finalScrapedPandas=finalScrapedPandas.append(currentReadInDataFrame) \n",
    "    "
   ]
  },
  {
   "cell_type": "code",
   "execution_count": 71,
   "metadata": {},
   "outputs": [],
   "source": [
    "finalScrapedPandas['state_abbr']= finalScrapedPandas['State'].map(dictOfStates) "
   ]
  },
  {
   "cell_type": "code",
   "execution_count": 72,
   "metadata": {},
   "outputs": [],
   "source": [
    "finalScrapedPandas.to_csv(\"propertyTax.csv\", encoding='utf-8')"
   ]
  },
  {
   "cell_type": "code",
   "execution_count": null,
   "metadata": {},
   "outputs": [],
   "source": []
  }
 ],
 "metadata": {
  "kernelspec": {
   "display_name": "Python 3",
   "language": "python",
   "name": "python3"
  },
  "language_info": {
   "codemirror_mode": {
    "name": "ipython",
    "version": 3
   },
   "file_extension": ".py",
   "mimetype": "text/x-python",
   "name": "python",
   "nbconvert_exporter": "python",
   "pygments_lexer": "ipython3",
   "version": "3.7.0"
  }
 },
 "nbformat": 4,
 "nbformat_minor": 2
}
